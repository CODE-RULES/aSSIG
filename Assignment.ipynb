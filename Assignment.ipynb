{
 "cells": [
  {
   "cell_type": "markdown",
   "id": "338349d1-3ffd-45a3-9d6d-0903da399e8b",
   "metadata": {},
   "source": [
    "#  Data Science Tools and Ecosystem\n",
    "# H1:  Data Science Tools and Ecosystem"
   ]
  },
  {
   "cell_type": "code",
   "execution_count": null,
   "id": "6e9033d2-1983-4fde-ad0c-83a06309f039",
   "metadata": {},
   "outputs": [],
   "source": []
  },
  {
   "cell_type": "markdown",
   "id": "5ccf4ad8-5bb6-42dc-8463-d61ef903c4bb",
   "metadata": {},
   "source": [
    "# In this notebook, Data Science Tools and Ecosystem are summarized."
   ]
  },
  {
   "cell_type": "markdown",
   "id": "28f56a1d-57b2-4da5-b728-749b1f7927f7",
   "metadata": {},
   "source": [
    "# Some of the popular languages that Data Scientists use are:\n",
    "\n",
    "1. python\n",
    "2. R \n",
    "3. SQL \n",
    "4. Julia"
   ]
  },
  {
   "cell_type": "markdown",
   "id": "cc98589f-c299-49df-843d-5dbf500361bb",
   "metadata": {},
   "source": [
    "# Below are a few examples of evaluating arithmetic expressions in Python."
   ]
  },
  {
   "cell_type": "code",
   "execution_count": null,
   "id": "9baed22c-fcf4-49f4-88d4-c54a3e8c0dce",
   "metadata": {},
   "outputs": [],
   "source": [
    "#This a simple arithmetic expression to mutiply then add integers"
   ]
  },
  {
   "cell_type": "code",
   "execution_count": 1,
   "id": "4c399edc-b593-486d-922e-4af28d0d4abc",
   "metadata": {},
   "outputs": [
    {
     "data": {
      "text/plain": [
       "17"
      ]
     },
     "execution_count": 1,
     "metadata": {},
     "output_type": "execute_result"
    }
   ],
   "source": [
    "(3*4)+5"
   ]
  },
  {
   "cell_type": "code",
   "execution_count": null,
   "id": "b76ef2a0-359b-46a2-a3e3-414e1f34853f",
   "metadata": {},
   "outputs": [],
   "source": [
    "#This will convert 200 minutes to hours by diving by 60"
   ]
  },
  {
   "cell_type": "code",
   "execution_count": 2,
   "id": "3c860bfe-9ac5-40cd-9628-dd60ff8c3950",
   "metadata": {},
   "outputs": [
    {
     "data": {
      "text/plain": [
       "3.3333333333333335"
      ]
     },
     "execution_count": 2,
     "metadata": {},
     "output_type": "execute_result"
    }
   ],
   "source": [
    "200/60"
   ]
  },
  {
   "cell_type": "markdown",
   "id": "d123a8eb-e052-4657-9b91-9267e73c7b04",
   "metadata": {},
   "source": [
    "__Objectives:__\n",
    "\n",
    "* Python\n",
    "* R\n",
    "* VScode"
   ]
  },
  {
   "cell_type": "markdown",
   "id": "8ec0d62e-913b-4b52-9f30-28dce588fc8a",
   "metadata": {},
   "source": [
    "# H2: Author\n",
    "Lawrence"
   ]
  },
  {
   "cell_type": "code",
   "execution_count": null,
   "id": "72df73c5-e6ba-435f-93ac-f2f19c8bb0db",
   "metadata": {},
   "outputs": [],
   "source": []
  }
 ],
 "metadata": {
  "kernelspec": {
   "display_name": "Python 3 (ipykernel)",
   "language": "python",
   "name": "python3"
  },
  "language_info": {
   "codemirror_mode": {
    "name": "ipython",
    "version": 3
   },
   "file_extension": ".py",
   "mimetype": "text/x-python",
   "name": "python",
   "nbconvert_exporter": "python",
   "pygments_lexer": "ipython3",
   "version": "3.11.5"
  }
 },
 "nbformat": 4,
 "nbformat_minor": 5
}
